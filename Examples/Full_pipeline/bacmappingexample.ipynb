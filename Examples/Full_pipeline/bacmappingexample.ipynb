{
 "cells": [
  {
   "cell_type": "markdown",
   "metadata": {},
   "source": [
    "# Full bacmapping pipeline\n",
    "\n",
    "This jupyter notebook contains the full pipeline to create the bacmapping database and some examples on how to use the bacmapping functions.\n",
    "\n",
    "Note: Running the main pipeline can take around 8 hours using 16 cores."
   ]
  },
  {
   "cell_type": "code",
   "execution_count": null,
   "metadata": {},
   "outputs": [],
   "source": [
    "import bacmapping as bmap\n",
    "import matplotlib.pyplot as plt\n",
    "import os\n",
    "from Bio import Entrez"
   ]
  },
  {
   "cell_type": "markdown",
   "metadata": {},
   "source": [
    "## Main pipeline\n",
    "\n",
    "The following pipeline download all the necessary files from the FTP server\n",
    "-   download can be set to false if the sequence is already available locally\n",
    "-   onlyType and vtype determine whether clones should be filtered and how so, automatically set to only download and map BACs\n",
    "-   email is the email sent to the NIH server when you download sequence\n",
    "\n",
    "This function creates two folders in the working directory, details and sequences\n",
    "\n",
    "-   details contains gff files from CloneDB, as well as various of presenting the data in the folds reordered and repaired\n",
    "    -   reordered contains clones split by the sequence ID they are contained in\n",
    "    -   repaired contains clones with their \"attributes\" split up for simple digestion\n",
    "-   sequences contains all the sequences related to the clones in fasta format\n",
    "\n",
    "\n"
   ]
  },
  {
   "cell_type": "code",
   "execution_count": null,
   "metadata": {},
   "outputs": [],
   "source": [
    "bmap.getNewClones(download = False, email='') # Remember to put your email in to let NIH know who uses these resources!"
   ]
  },
  {
   "cell_type": "markdown",
   "metadata": {},
   "source": [
    "The following functions generate the database locally in a folder called maps. mapSequencedClones saves all the maps of clones that are insert-sequenced into the folder sequenced in maps. mapPlacedClones saves all the maps of clones that are end-sequenced into the folder placed in maps.\n",
    "-   cpustouse determines the number of cores to use when running multiprocessing \n",
    "-   chunk_size determines the amount of lines to read into pandas at once, larger is faster but requires more memory"
   ]
  },
  {
   "cell_type": "code",
   "execution_count": null,
   "metadata": {},
   "outputs": [],
   "source": [
    "bmap.mapSequencedClones(cpustouse=16) \n",
    "bmap.mapPlacedClones(cpustouse=16, chunk_size=1000)"
   ]
  },
  {
   "cell_type": "markdown",
   "metadata": {},
   "source": [
    "## Functions for statistics"
   ]
  },
  {
   "cell_type": "code",
   "execution_count": null,
   "metadata": {},
   "outputs": [],
   "source": [
    "bmap.countPlacedBACs()\n",
    "bmap.getCoverage()\n",
    "bmap.getAverageLength()\n",
    "bmap.getSequencedClonesStats()"
   ]
  },
  {
   "cell_type": "markdown",
   "metadata": {},
   "source": [
    "Output files:\n",
    "\n",
    "- countPlacedBACs counts the number of BACs in each end-sequenced library and saves this to counts.csv\n",
    "- getCoverage determines the number of bases per chromosome which are included in the inserts of end-sequenced BACs in each library and saves this to coverage.csv\n",
    "- getAverageLength finds the average length of clones in each end-sequenced library and saves this to averagelength.csv\n",
    "- getSequencedClonesStats gets both the average length and number of clones for each library of insert-sequenced clones"
   ]
  },
  {
   "cell_type": "markdown",
   "metadata": {},
   "source": [
    "## Generating the pairs database\n",
    "Generate the database of all of the clone pairs which have overlapping ends produced by linearization.\n",
    "-   cpustouse determines the number of cores to use when running multiprocessing \n",
    "-   longestoverlap is the longest acceptable overlap between the ends of different linearized BACs\n",
    "-   shortestoverlap is the shortest acceptable overlap between the ends of different linearized BACs"
   ]
  },
  {
   "cell_type": "code",
   "execution_count": null,
   "metadata": {},
   "outputs": [],
   "source": [
    "bmap.makePairs(cpustouse=16, longestoverlap=200, shortestoverlap=20)"
   ]
  },
  {
   "cell_type": "markdown",
   "metadata": {},
   "source": [
    "## Functions to explore the library"
   ]
  },
  {
   "cell_type": "markdown",
   "metadata": {},
   "source": [
    "### getRestrictionMap\n",
    "\n",
    "Given the name of a BAC and an enzyme, returns the cut locations."
   ]
  },
  {
   "cell_type": "code",
   "execution_count": null,
   "metadata": {},
   "outputs": [],
   "source": [
    "name = \"RP11-168H2\"\n",
    "enzyme = \"SgrDI\"\n",
    "rmap = bmap.getRestrictionMap(name, enzyme)\n",
    "rmap"
   ]
  },
  {
   "cell_type": "markdown",
   "metadata": {},
   "source": [
    "### getMaps\n",
    "\n",
    "Given the name of a BAC, returns a dataframe containing all the restriction maps related to that BAC."
   ]
  },
  {
   "cell_type": "code",
   "execution_count": null,
   "metadata": {},
   "outputs": [],
   "source": [
    "name = \"RP11-168H2\"\n",
    "maps = bmap.getMaps(name)\n",
    "maps"
   ]
  },
  {
   "cell_type": "markdown",
   "metadata": {},
   "source": [
    "### getRightIsoschizomer\n",
    "\n",
    "Given an enzyme name, returns the enzyme name and Bio.restriction class which corresponds to the isoschizomer which is in the database. Name is a string of the enzyme name, libraryenzyme is the Bio.restriction class of the enzyme."
   ]
  },
  {
   "cell_type": "code",
   "execution_count": null,
   "metadata": {},
   "outputs": [],
   "source": [
    "testenzyme = \"BsaI\"\n",
    "name, libraryenzyme = bmap.getRightIsoschizomer(testenzyme)\n",
    "print(name)"
   ]
  },
  {
   "cell_type": "markdown",
   "metadata": {},
   "source": [
    "### DrawMap\n",
    "\n",
    "Draws a map for a given BAC and enzyme."
   ]
  },
  {
   "cell_type": "code",
   "execution_count": null,
   "metadata": {},
   "outputs": [],
   "source": [
    "name = \"RP11-168H2\"\n",
    "enzyme = \"DrdI\"\n",
    "rmap = bmap.drawMap(name, enzyme)"
   ]
  },
  {
   "cell_type": "markdown",
   "metadata": {},
   "source": [
    "### getSequenceFromName\n",
    "\n",
    "Given the name of a BAC, tries to return the sequence of that insert."
   ]
  },
  {
   "cell_type": "code",
   "execution_count": null,
   "metadata": {},
   "outputs": [],
   "source": [
    "name = \"RP11-168H2\"\n",
    "seq = bmap.getSequenceFromName(name)\n",
    "print(seq)"
   ]
  },
  {
   "cell_type": "markdown",
   "metadata": {},
   "source": [
    "### getSequenceFromLoc\n",
    "\n",
    "Given a chromosome, start and end location, returns sequence of that location."
   ]
  },
  {
   "cell_type": "code",
   "execution_count": null,
   "metadata": {},
   "outputs": [],
   "source": [
    "chrom = 2\n",
    "start = 100000\n",
    "end = 105000\n",
    "seq = bmap.getSequenceFromLoc(chrom,start,end)\n",
    "print(seq)"
   ]
  },
  {
   "cell_type": "markdown",
   "metadata": {},
   "source": [
    "### getMapsFromLoc\n",
    "\n",
    "Given a chromosome, start and end location, returns all the maps in that region."
   ]
  },
  {
   "cell_type": "code",
   "execution_count": null,
   "metadata": {},
   "outputs": [],
   "source": [
    "chrom = 2\n",
    "start = 100000\n",
    "end = 500000\n",
    "maps = bmap.getMapsFromLoc(chrom,start,end)\n",
    "maps"
   ]
  },
  {
   "cell_type": "markdown",
   "metadata": {},
   "source": [
    "### findPairsFromName\n",
    "\n",
    "Given a BAC name as well as overlap and other details, finds possible BACs with acceptable overlap and restriction sites. This returns a dataframe where each line is a pair of BACs, including details of what enzymes are used and how they cut."
   ]
  },
  {
   "cell_type": "code",
   "execution_count": null,
   "metadata": {},
   "outputs": [],
   "source": [
    "name = \"RP11-168H2\"\n",
    "longestoverlap=200\n",
    "shortestoverlap=20\n",
    "pairs = bmap.findPairsFromName(name, longestoverlap, shortestoverlap)\n",
    "pairs"
   ]
  },
  {
   "cell_type": "markdown",
   "metadata": {},
   "source": [
    "### findOverlappingBACs\n",
    "\n",
    "Given a BAC name, returns a dataframe with details for all the BACs which overlap the BAC."
   ]
  },
  {
   "cell_type": "code",
   "execution_count": null,
   "metadata": {},
   "outputs": [],
   "source": [
    "name = 'RP11-168H2'\n",
    "bacs = bmap.findOverlappingBACs(name)\n",
    "bacs"
   ]
  }
 ],
 "metadata": {
  "kernelspec": {
   "display_name": "bac",
   "language": "python",
   "name": "python3"
  },
  "language_info": {
   "codemirror_mode": {
    "name": "ipython",
    "version": 3
   },
   "file_extension": ".py",
   "mimetype": "text/x-python",
   "name": "python",
   "nbconvert_exporter": "python",
   "pygments_lexer": "ipython3",
   "version": "3.11.4"
  },
  "orig_nbformat": 4
 },
 "nbformat": 4,
 "nbformat_minor": 2
}
