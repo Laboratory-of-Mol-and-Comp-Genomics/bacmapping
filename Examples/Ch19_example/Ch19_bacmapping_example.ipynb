{
 "cells": [
  {
   "cell_type": "markdown",
   "metadata": {},
   "source": [
    "## Making restriction maps of the BACs in the RP11 library on chromosome 19\n",
    "\n",
    "This jupyter notebook contains an example of running the pipeline, the input data is reduced to only BACs in RP11 on chromosome 19 so it should only take a few minutes to run any command.\n",
    "\n",
    "Importing bacmapping as bmap to have access to the functions, importing plt from matplotlib so we can show a nice map when we're done, os is useful for moving around files"
   ]
  },
  {
   "cell_type": "code",
   "execution_count": null,
   "metadata": {},
   "outputs": [],
   "source": [
    "import bacmapping as bmap\n",
    "import matplotlib.pyplot as plt\n",
    "import os"
   ]
  },
  {
   "cell_type": "markdown",
   "metadata": {},
   "source": [
    "Setting some variables, accession number, library and chromosome size we're restricting the library to, chunksize and cpus related to how much memory and cpus to use in processing, and your email."
   ]
  },
  {
   "cell_type": "code",
   "execution_count": null,
   "metadata": {},
   "outputs": [],
   "source": [
    "email = \"example@website.com\" # Remember to give NCBI your email!\n",
    "\n",
    "acc = 'NC_000019.10' # accession number of human genome chromosome 19\n",
    "lib = 'RP11' # library we're interested in\n",
    "chrom = '19' # chromosome number we're interested in\n",
    "chunksize = 5000 # how many entries to read into memory in each chunk, bigger = faster and more memory usage\n",
    "cpus = 8 # how many cpus to use in multiprocessing, more means faster but you need the cpus free"
   ]
  },
  {
   "cell_type": "markdown",
   "metadata": {},
   "source": [
    "We need to get the clones we're going to map and download the sequence we are using. For the full pipeline, we'd run getNewClones instead of getNewClonesMiniset. This would make the mapping take longer and use more space.\n",
    "\n",
    "This will make two new folders, details and sequences, details has all the information on the clones, sequences has the sequences\n",
    "\n",
    "It will take a few minutes to download everything"
   ]
  },
  {
   "cell_type": "code",
   "execution_count": null,
   "metadata": {},
   "outputs": [],
   "source": [
    "bmap.getNewClonesMiniset(email, lib, acc, chrom, chunk_size = chunksize) # a variation on downloading the dataset which only downloads one library and one chromosome"
   ]
  },
  {
   "cell_type": "markdown",
   "metadata": {},
   "source": [
    "Map the end-sequenced BACs in the example dataset by running mapPlacedClones, this will take a few minutes to run"
   ]
  },
  {
   "cell_type": "code",
   "execution_count": null,
   "metadata": {},
   "outputs": [],
   "source": [
    "bmap.mapPlacedClones(cpustouse=cpus, chunk_size=chunksize)"
   ]
  },
  {
   "cell_type": "markdown",
   "metadata": {},
   "source": [
    "Some of the BACs are insert-sequenced and use a different function to be restriction mapped, mapSequencedClones"
   ]
  },
  {
   "cell_type": "code",
   "execution_count": null,
   "metadata": {},
   "outputs": [],
   "source": [
    "bmap.mapSequencedClones(cpustouse=cpus)"
   ]
  },
  {
   "cell_type": "markdown",
   "metadata": {},
   "source": [
    "The statistics on this dataset can be determined by running the following commands, which are detailed in the readme, they'll save 4 csv files with the results of this analysis"
   ]
  },
  {
   "cell_type": "code",
   "execution_count": null,
   "metadata": {},
   "outputs": [],
   "source": [
    "bmap.countPlacedBACs()\n",
    "bmap.getCoverage()\n",
    "bmap.getAverageLength()\n",
    "bmap.getSequencedClonesStats()"
   ]
  },
  {
   "cell_type": "markdown",
   "metadata": {},
   "source": [
    "Output files:\n",
    "- countPlacedBACs counts the number of BACs in each end-sequenced library and saves this to counts.csv\n",
    "- getCoverage determines the number of bases per chromosome which are included in the inserts of end-sequenced BACs in each library and saves this to coverage.csv\n",
    "- getAverageLength finds the average length of clones in each end-sequenced library and saves this to averagelength.csv\n",
    "- getSequencedClonesStats gets both the average length and number of clones for each library of insert-sequenced clones and saves this to sequencedStats.csv"
   ]
  },
  {
   "cell_type": "markdown",
   "metadata": {},
   "source": [
    "Finally, let's explore one set of maps produced in the library, we'll return all the maps for one BAC which is included in the library and then get an image of the produced map."
   ]
  },
  {
   "cell_type": "code",
   "execution_count": null,
   "metadata": {},
   "outputs": [],
   "source": [
    "name = 'RP11-793A20'\n",
    "enzyme = 'SgrAI'\n",
    "maps = bmap.getMaps(name)\n",
    "#print(maps) #this is a big dataframe of all the maps, uncomment to check it out\n",
    "rmap = bmap.getRestrictionMap(name,enzyme)\n",
    "print('Sites in ' + name + ' where ' + enzyme + ' cuts: '+ str(rmap))\n",
    "plt = bmap.drawMap(name, enzyme)\n",
    "plt.show()"
   ]
  },
  {
   "cell_type": "markdown",
   "metadata": {},
   "source": [
    "-   maps from bmap.getMaps(name) is a series of all the restriction maps for RP11-793A20\n",
    "-   rmap from bmap.getRestrictionMap(name,enzyme) is just the cut locations of FspI in RP11-793A20\n",
    "-   plt is a visual representation of rmap\n",
    "\n",
    "\n",
    "Then let's find pairs that include our BAC of interest. We'll set longestoverlap, the longest acceptable overlap in the overlapping end, to 500 and shortestoverlap, the shortest acceptable overlap, to 0. This means that we'll also include BACs which are linearized at the same site. "
   ]
  },
  {
   "cell_type": "code",
   "execution_count": null,
   "metadata": {},
   "outputs": [],
   "source": [
    "name = 'RP11-793A20'\n",
    "pairs = (bmap.findPairsFromName(name,longestoverlap=500,shortestoverlap=0))\n",
    "pairs"
   ]
  },
  {
   "cell_type": "markdown",
   "metadata": {},
   "source": [
    "Instead of just finding one, we can find all BAC pairs which are linearized to produce overlapping ends. This code will make a folder named pairs with each chromosome detailing all the possible pairs of BACs."
   ]
  },
  {
   "cell_type": "code",
   "execution_count": null,
   "metadata": {},
   "outputs": [],
   "source": [
    "bmap.makePairs(cpustouse=cpus,longestoverlap=500,shortestoverlap=0)"
   ]
  },
  {
   "cell_type": "markdown",
   "metadata": {},
   "source": [
    "## Functions to explore the library"
   ]
  },
  {
   "cell_type": "markdown",
   "metadata": {},
   "source": [
    "### getMaps\n",
    "\n",
    "Given the name of a BAC, returns a dataframe containing all the restriction maps related to that BAC."
   ]
  },
  {
   "cell_type": "code",
   "execution_count": null,
   "metadata": {},
   "outputs": [],
   "source": [
    "name = 'RP11-1053G2'\n",
    "maps = bmap.getMaps(name)\n",
    "maps"
   ]
  },
  {
   "cell_type": "markdown",
   "metadata": {},
   "source": [
    "### getRestrictionMap\n",
    "\n",
    "Given the name of a BAC and an enzyme, returns the cut locations."
   ]
  },
  {
   "cell_type": "code",
   "execution_count": null,
   "metadata": {},
   "outputs": [],
   "source": [
    "name = 'RP11-1053G2'\n",
    "enzyme = 'FspI'\n",
    "rmap = bmap.getRestrictionMap(name, enzyme)\n",
    "rmap"
   ]
  },
  {
   "cell_type": "markdown",
   "metadata": {},
   "source": [
    "### getRightIsoschizomer\n",
    "\n",
    "Given an enzyme name, returns the enzyme name and Bio.restriction class which corresponds to the isoschizomer which is in the database. Name is a string of the enzyme name, libraryenzyme is the Bio.restriction class of the enzyme."
   ]
  },
  {
   "cell_type": "code",
   "execution_count": null,
   "metadata": {},
   "outputs": [],
   "source": [
    "testenzyme = \"BsaI\"\n",
    "name, libraryenzyme = bmap.getRightIsoschizomer(testenzyme)\n",
    "print(name)"
   ]
  },
  {
   "cell_type": "markdown",
   "metadata": {},
   "source": [
    "### DrawMap\n",
    "\n",
    "Draws a map for a given BAC and enzyme."
   ]
  },
  {
   "cell_type": "code",
   "execution_count": null,
   "metadata": {},
   "outputs": [],
   "source": [
    "name = 'RP11-1053G2'\n",
    "enzyme = 'FspI'\n",
    "rmap = bmap.drawMap(name, enzyme)"
   ]
  },
  {
   "cell_type": "markdown",
   "metadata": {},
   "source": [
    "### getSequenceFromName\n",
    "\n",
    "Given the name of a BAC, tries to return the sequence of that insert."
   ]
  },
  {
   "cell_type": "code",
   "execution_count": null,
   "metadata": {},
   "outputs": [],
   "source": [
    "name = 'RP11-1055H23' # an end-sequenced clone\n",
    "#name = 'RP11-618P17' # an insert-sequenced clone \n",
    "seq = bmap.getSequenceFromName(name)\n",
    "print(seq)"
   ]
  },
  {
   "cell_type": "markdown",
   "metadata": {},
   "source": [
    "### getSequenceFromLoc\n",
    "\n",
    "Given a chromosome, start and end location, returns sequence of that location."
   ]
  },
  {
   "cell_type": "code",
   "execution_count": null,
   "metadata": {},
   "outputs": [],
   "source": [
    "chrom = 19\n",
    "start = 100000\n",
    "end = 500000\n",
    "seq = bmap.getSequenceFromLoc(chrom,start,end)\n",
    "print(seq)"
   ]
  },
  {
   "cell_type": "markdown",
   "metadata": {},
   "source": [
    "### getMapsFromLoc\n",
    "\n",
    "Given a chromosome, start and end location, returns all the maps in that region."
   ]
  },
  {
   "cell_type": "code",
   "execution_count": null,
   "metadata": {},
   "outputs": [],
   "source": [
    "chrom = 19\n",
    "start = 100000\n",
    "end = 500000\n",
    "maps = bmap.getMapsFromLoc(chrom,start,end)\n",
    "maps"
   ]
  },
  {
   "cell_type": "markdown",
   "metadata": {},
   "source": [
    "### findOverlappingBACs\n",
    "\n",
    "Given a BAC name, returns a dataframe with details for all the BACs which overlap the BAC."
   ]
  },
  {
   "cell_type": "code",
   "execution_count": null,
   "metadata": {},
   "outputs": [],
   "source": [
    "name = 'RP11-1053G2'\n",
    "bacs = bmap.findOverlappingBACs(name)\n",
    "bacs"
   ]
  },
  {
   "cell_type": "code",
   "execution_count": null,
   "metadata": {},
   "outputs": [],
   "source": []
  }
 ],
 "metadata": {
  "kernelspec": {
   "display_name": "bac",
   "language": "python",
   "name": "python3"
  },
  "language_info": {
   "codemirror_mode": {
    "name": "ipython",
    "version": 3
   },
   "file_extension": ".py",
   "mimetype": "text/x-python",
   "name": "python",
   "nbconvert_exporter": "python",
   "pygments_lexer": "ipython3",
   "version": "3.11.4"
  },
  "orig_nbformat": 4
 },
 "nbformat": 4,
 "nbformat_minor": 2
}
